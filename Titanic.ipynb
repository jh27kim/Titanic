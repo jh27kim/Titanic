{
 "cells": [
  {
   "cell_type": "code",
   "execution_count": 2,
   "id": "romantic-florida",
   "metadata": {},
   "outputs": [],
   "source": [
    "import pandas as pd\n",
    "import numpy as np\n",
    "import matplotlib.pyplot as plt\n",
    "from sklearn.preprocessing import LabelEncoder\n",
    "from sklearn.model_selection import train_test_split\n",
    "from sklearn.pipeline import make_pipeline, Pipeline\n",
    "\n",
    "\n",
    "pd.set_option('display.max_columns', 20)\n",
    "pd.set_option('display.max_rows', 10)"
   ]
  },
  {
   "cell_type": "code",
   "execution_count": 3,
   "id": "worthy-retail",
   "metadata": {},
   "outputs": [
    {
     "name": "stdout",
     "output_type": "stream",
     "text": [
      "<bound method DataFrame.info of      PassengerId  Survived  Pclass                              Name     Sex  \\\n",
      "298          299         1       1             Saalfeld, Mr. Adolphe    male   \n",
      "884          885         0       3            Sutehall, Mr. Henry Jr    male   \n",
      "247          248         1       2   Hamalainen, Mrs. William (Anna)  female   \n",
      "478          479         0       3         Karlsson, Mr. Nils August    male   \n",
      "305          306         1       1    Allison, Master. Hudson Trevor    male   \n",
      "..           ...       ...     ...                               ...     ...   \n",
      "106          107         1       3  Salkjelsvik, Miss. Anna Kristine  female   \n",
      "270          271         0       1             Cairns, Mr. Alexander    male   \n",
      "860          861         0       3           Hansen, Mr. Claus Peter    male   \n",
      "435          436         1       1         Carter, Miss. Lucile Polk  female   \n",
      "102          103         0       1         White, Mr. Richard Frasar    male   \n",
      "\n",
      "       Age  SibSp  Parch           Ticket      Fare    Cabin Embarked  \n",
      "298    NaN      0      0            19988   30.5000     C106        S  \n",
      "884  25.00      0      0  SOTON/OQ 392076    7.0500      NaN        S  \n",
      "247  24.00      0      2           250649   14.5000      NaN        S  \n",
      "478  22.00      0      0           350060    7.5208      NaN        S  \n",
      "305   0.92      1      2           113781  151.5500  C22 C26        S  \n",
      "..     ...    ...    ...              ...       ...      ...      ...  \n",
      "106  21.00      0      0           343120    7.6500      NaN        S  \n",
      "270    NaN      0      0           113798   31.0000      NaN        S  \n",
      "860  41.00      2      0           350026   14.1083      NaN        S  \n",
      "435  14.00      1      2           113760  120.0000  B96 B98        S  \n",
      "102  21.00      0      1            35281   77.2875      D26        S  \n",
      "\n",
      "[668 rows x 12 columns]>\n",
      "<bound method DataFrame.info of      PassengerId  Survived  Pclass  \\\n",
      "709          710         1       3   \n",
      "439          440         0       2   \n",
      "840          841         0       3   \n",
      "720          721         1       2   \n",
      "39            40         1       3   \n",
      "..           ...       ...     ...   \n",
      "880          881         1       2   \n",
      "425          426         0       3   \n",
      "101          102         0       3   \n",
      "199          200         0       2   \n",
      "424          425         0       3   \n",
      "\n",
      "                                                  Name     Sex   Age  SibSp  \\\n",
      "709  Moubarek, Master. Halim Gonios (\"William George\")    male   NaN      1   \n",
      "439             Kvillner, Mr. Johan Henrik Johannesson    male  31.0      0   \n",
      "840                        Alhomaki, Mr. Ilmari Rudolf    male  20.0      0   \n",
      "720                  Harper, Miss. Annie Jessie \"Nina\"  female   6.0      0   \n",
      "39                         Nicola-Yarred, Miss. Jamila  female  14.0      1   \n",
      "..                                                 ...     ...   ...    ...   \n",
      "880       Shelley, Mrs. William (Imanita Parrish Hall)  female  25.0      0   \n",
      "425                             Wiseman, Mr. Phillippe    male   NaN      0   \n",
      "101                   Petroff, Mr. Pastcho (\"Pentcho\")    male   NaN      0   \n",
      "199             Yrois, Miss. Henriette (\"Mrs Harbeck\")  female  24.0      0   \n",
      "424                        Rosblom, Mr. Viktor Richard    male  18.0      1   \n",
      "\n",
      "     Parch            Ticket     Fare Cabin Embarked  \n",
      "709      1              2661  15.2458   NaN        C  \n",
      "439      0        C.A. 18723  10.5000   NaN        S  \n",
      "840      0  SOTON/O2 3101287   7.9250   NaN        S  \n",
      "720      1            248727  33.0000   NaN        S  \n",
      "39       0              2651  11.2417   NaN        C  \n",
      "..     ...               ...      ...   ...      ...  \n",
      "880      1            230433  26.0000   NaN        S  \n",
      "425      0        A/4. 34244   7.2500   NaN        S  \n",
      "101      0            349215   7.8958   NaN        S  \n",
      "199      0            248747  13.0000   NaN        S  \n",
      "424      1            370129  20.2125   NaN        S  \n",
      "\n",
      "[223 rows x 12 columns]>\n"
     ]
    }
   ],
   "source": [
    "X_train = pd.read_csv('train.csv')\n",
    "X_test = pd.read_csv('test.csv')\n",
    "\n",
    "y_train = X_train['Survived']\n",
    "X_train, X_val, y_train, y_val = train_test_split(X_train, y_train, test_size=0.25, random_state=42)\n",
    "\n",
    "print(X_train.info)\n",
    "print(X_val.info)"
   ]
  },
  {
   "cell_type": "code",
   "execution_count": 6,
   "id": "incident-quilt",
   "metadata": {},
   "outputs": [
    {
     "name": "stdout",
     "output_type": "stream",
     "text": [
      "Sex\n",
      "[439 229]\n"
     ]
    },
    {
     "data": {
      "image/png": "[encoded data removed]",
      "text/plain": [
       "<Figure size 432x288 with 1 Axes>"
      ]
     },
     "metadata": {
      "needs_background": "light"
     },
     "output_type": "display_data"
    },
    {
     "name": "stdout",
     "output_type": "stream",
     "text": [
      "Ticket\n",
      "[7 6 6 5 4 4 4 4 4 3 3 3 3 3 3 3 3 3 3 3 3 3 3 3 3 3 3 3 3 2 2 2 2 2 2 2 2\n",
      " 2 2 2 2 2 2 2 2 2 2 2 2 2 2 2 2 2 2 2 2 2 2 2 2 2 2 2 2 2 2 2 2 2 2 2 2 2\n",
      " 2 2 2 2 2 2 2 2 2 2 2 2 2 2 2 2 2 2 2 1 1 1 1 1 1 1 1 1 1 1 1 1 1 1 1 1 1\n",
      " 1 1 1 1 1 1 1 1 1 1 1 1 1 1 1 1 1 1 1 1 1 1 1 1 1 1 1 1 1 1 1 1 1 1 1 1 1\n",
      " 1 1 1 1 1 1 1 1 1 1 1 1 1 1 1 1 1 1 1 1 1 1 1 1 1 1 1 1 1 1 1 1 1 1 1 1 1\n",
      " 1 1 1 1 1 1 1 1 1 1 1 1 1 1 1 1 1 1 1 1 1 1 1 1 1 1 1 1 1 1 1 1 1 1 1 1 1\n",
      " 1 1 1 1 1 1 1 1 1 1 1 1 1 1 1 1 1 1 1 1 1 1 1 1 1 1 1 1 1 1 1 1 1 1 1 1 1\n",
      " 1 1 1 1 1 1 1 1 1 1 1 1 1 1 1 1 1 1 1 1 1 1 1 1 1 1 1 1 1 1 1 1 1 1 1 1 1\n",
      " 1 1 1 1 1 1 1 1 1 1 1 1 1 1 1 1 1 1 1 1 1 1 1 1 1 1 1 1 1 1 1 1 1 1 1 1 1\n",
      " 1 1 1 1 1 1 1 1 1 1 1 1 1 1 1 1 1 1 1 1 1 1 1 1 1 1 1 1 1 1 1 1 1 1 1 1 1\n",
      " 1 1 1 1 1 1 1 1 1 1 1 1 1 1 1 1 1 1 1 1 1 1 1 1 1 1 1 1 1 1 1 1 1 1 1 1 1\n",
      " 1 1 1 1 1 1 1 1 1 1 1 1 1 1 1 1 1 1 1 1 1 1 1 1 1 1 1 1 1 1 1 1 1 1 1 1 1\n",
      " 1 1 1 1 1 1 1 1 1 1 1 1 1 1 1 1 1 1 1 1 1 1 1 1 1 1 1 1 1 1 1 1 1 1 1 1 1\n",
      " 1 1 1 1 1 1 1 1 1 1 1 1 1 1 1 1 1 1 1 1 1 1 1 1 1 1 1 1 1 1 1 1 1 1 1 1 1\n",
      " 1 1 1 1 1 1 1 1 1 1 1]\n"
     ]
    },
    {
     "data": {
      "image/png": "[encoded data removed]",
      "text/plain": [
       "<Figure size 432x288 with 1 Axes>"
      ]
     },
     "metadata": {
      "needs_background": "light"
     },
     "output_type": "display_data"
    },
    {
     "name": "stdout",
     "output_type": "stream",
     "text": [
      "Cabin\n",
      "[4 3 3 3 3 2 2 2 2 2 2 2 2 2 2 2 2 2 2 2 2 2 2 2 2 2 2 2 2 2 1 1 1 1 1 1 1\n",
      " 1 1 1 1 1 1 1 1 1 1 1 1 1 1 1 1 1 1 1 1 1 1 1 1 1 1 1 1 1 1 1 1 1 1 1 1 1\n",
      " 1 1 1 1 1 1 1 1 1 1 1 1 1 1 1 1 1 1 1 1 1 1 1 1 1 1 1 1 1 1 1 1 1 1 1 1 1\n",
      " 1 1]\n"
     ]
    },
    {
     "data": {
      "image/png": "[encoded data removed]",
      "text/plain": [
       "<Figure size 432x288 with 1 Axes>"
      ]
     },
     "metadata": {
      "needs_background": "light"
     },
     "output_type": "display_data"
    },
    {
     "name": "stdout",
     "output_type": "stream",
     "text": [
      "Embarked\n",
      "[491 117  58]\n"
     ]
    },
    {
     "data": {
      "image/png": "[encoded data removed]",
      "text/plain": [
       "<Figure size 432x288 with 1 Axes>"
      ]
     },
     "metadata": {
      "needs_background": "light"
     },
     "output_type": "display_data"
    },
    {
     "name": "stdout",
     "output_type": "stream",
     "text": [
      "<class 'pandas.core.frame.DataFrame'>\n",
      "Int64Index: 668 entries, 298 to 102\n",
      "Data columns (total 12 columns):\n",
      " #   Column       Non-Null Count  Dtype  \n",
      "---  ------       --------------  -----  \n",
      " 0   PassengerId  668 non-null    int64  \n",
      " 1   Survived     668 non-null    int64  \n",
      " 2   Pclass       668 non-null    int64  \n",
      " 3   Name         668 non-null    object \n",
      " 4   Sex          668 non-null    object \n",
      " 5   Age          536 non-null    float64\n",
      " 6   SibSp        668 non-null    int64  \n",
      " 7   Parch        668 non-null    int64  \n",
      " 8   Ticket       668 non-null    object \n",
      " 9   Fare         668 non-null    float64\n",
      " 10  Cabin        149 non-null    object \n",
      " 11  Embarked     666 non-null    object \n",
      "dtypes: float64(2), int64(5), object(5)\n",
      "memory usage: 67.8+ KB\n",
      "None\n",
      "<class 'pandas.core.frame.DataFrame'>\n",
      "Int64Index: 223 entries, 709 to 424\n",
      "Data columns (total 12 columns):\n",
      " #   Column       Non-Null Count  Dtype  \n",
      "---  ------       --------------  -----  \n",
      " 0   PassengerId  223 non-null    int64  \n",
      " 1   Survived     223 non-null    int64  \n",
      " 2   Pclass       223 non-null    int64  \n",
      " 3   Name         223 non-null    object \n",
      " 4   Sex          223 non-null    object \n",
      " 5   Age          178 non-null    float64\n",
      " 6   SibSp        223 non-null    int64  \n",
      " 7   Parch        223 non-null    int64  \n",
      " 8   Ticket       223 non-null    object \n",
      " 9   Fare         223 non-null    float64\n",
      " 10  Cabin        55 non-null     object \n",
      " 11  Embarked     223 non-null    object \n",
      "dtypes: float64(2), int64(5), object(5)\n",
      "memory usage: 22.6+ KB\n",
      "None\n"
     ]
    }
   ],
   "source": [
    "categorical_features = []\n",
    "\n",
    "for c in X_train.columns:\n",
    "    if X_train[c].dtype == 'object':\n",
    "        categorical_features.append(c)\n",
    "        \n",
    "unique_values = {}\n",
    "for cat_col in categorical_features:\n",
    "    if cat_col == \"Name\":\n",
    "        continue    \n",
    "    cat_graph = X_train[cat_col].value_counts()\n",
    "    print(cat_col)\n",
    "    print(cat_graph.values)\n",
    "    cat_graph.plot(kind='bar')\n",
    "    plt.show()\n",
    "    \n",
    "print(X_train.info())\n",
    "print(X_val.info())"
   ]
  },
  {
   "cell_type": "code",
   "execution_count": 72,
   "id": "interpreted-newark",
   "metadata": {},
   "outputs": [],
   "source": [
    "from sklearn.base import BaseEstimator, TransformerMixin\n",
    "\n",
    "class AgeTransformer(BaseEstimator, TransformerMixin):\n",
    "    \n",
    "    def fit(self, X, y=None):\n",
    "        return self\n",
    "    \n",
    "    def transform(self, X, y=None):\n",
    "        X_ = X.copy()\n",
    "        X_['Age'].fillna(X_['Age'].mean(), inplace=True)\n",
    "        X_['Age'] = X_['Age'].astype('int')\n",
    "        return X_\n",
    "\n",
    "class EmbarkTransformer(BaseEstimator, TransformerMixin):\n",
    "    \n",
    "    def fit(self, X, y=None):\n",
    "        return self\n",
    "    \n",
    "    def transform(self, X, y=None):\n",
    "        X_ = X.copy()\n",
    "        X_['Embarked'].fillna(X_['Embarked'].mode()[0], inplace=True)\n",
    "        #x_ = X_['Embarked'].fillna(X_['Embarked'].mode(), inplace=True)\n",
    "        #print(X_['Embarked'])\n",
    "        X_['Embarked'] = X_['Embarked'].astype('object')\n",
    "        return X_"
   ]
  },
  {
   "cell_type": "code",
   "execution_count": 73,
   "id": "acting-constitutional",
   "metadata": {},
   "outputs": [],
   "source": [
    "fill_null_pipeline = Pipeline([\n",
    "                        ('t1', AgeTransformer()),\n",
    "                        ('t2', EmbarkTransformer())\n",
    "])\n",
    "\n",
    "null_free_X_train = fill_null_pipeline.fit_transform(X_train)\n",
    "null_free_X_val = fill_null_pipeline.transform(X_val)\n",
    "\n",
    "#null_free_X_train.info()\n",
    "#null_free_X_val.info()"
   ]
  },
  {
   "cell_type": "code",
   "execution_count": 74,
   "id": "indian-grammar",
   "metadata": {},
   "outputs": [
    {
     "name": "stdout",
     "output_type": "stream",
     "text": [
      "['Ticket', 'PassengerId', 'Cabin', 'Name']\n",
      "X_train done\n",
      "X_val done\n",
      "<class 'pandas.core.frame.DataFrame'>\n",
      "Int64Index: 668 entries, 298 to 102\n",
      "Data columns (total 8 columns):\n",
      " #   Column    Non-Null Count  Dtype  \n",
      "---  ------    --------------  -----  \n",
      " 0   Survived  668 non-null    int64  \n",
      " 1   Pclass    668 non-null    int64  \n",
      " 2   Sex       668 non-null    object \n",
      " 3   Age       668 non-null    int32  \n",
      " 4   SibSp     668 non-null    int64  \n",
      " 5   Parch     668 non-null    int64  \n",
      " 6   Fare      668 non-null    float64\n",
      " 7   Embarked  668 non-null    object \n",
      "dtypes: float64(1), int32(1), int64(4), object(2)\n",
      "memory usage: 60.5+ KB\n",
      "None\n",
      "<class 'pandas.core.frame.DataFrame'>\n",
      "Int64Index: 223 entries, 709 to 424\n",
      "Data columns (total 8 columns):\n",
      " #   Column    Non-Null Count  Dtype  \n",
      "---  ------    --------------  -----  \n",
      " 0   Survived  223 non-null    int64  \n",
      " 1   Pclass    223 non-null    int64  \n",
      " 2   Sex       223 non-null    object \n",
      " 3   Age       223 non-null    int32  \n",
      " 4   SibSp     223 non-null    int64  \n",
      " 5   Parch     223 non-null    int64  \n",
      " 6   Fare      223 non-null    float64\n",
      " 7   Embarked  223 non-null    object \n",
      "dtypes: float64(1), int32(1), int64(4), object(2)\n",
      "memory usage: 14.8+ KB\n",
      "None\n"
     ]
    }
   ],
   "source": [
    "useful_cat_features = ['Sex', 'Embarked']\n",
    "\n",
    "redundant_features = set(categorical_features) - set(useful_cat_features)\n",
    "redundant_features.add('PassengerId')\n",
    "redundant_features = list(redundant_features)\n",
    "print(redundant_features)\n",
    "\n",
    "removed_X_train = null_free_X_train.drop(redundant_features, axis=1)\n",
    "print('X_train done')\n",
    "removed_X_val = null_free_X_val.drop(redundant_features, axis=1)\n",
    "print('X_val done')\n",
    "print(removed_X_train.info())\n",
    "print(removed_X_val.info())"
   ]
  },
  {
   "cell_type": "code",
   "execution_count": 75,
   "id": "capable-basics",
   "metadata": {},
   "outputs": [],
   "source": [
    "encoded_X_train = removed_X_train.copy()\n",
    "encoded_X_val = removed_X_val.copy()\n",
    "\n",
    "for col in useful_cat_features:\n",
    "    lb = LabelEncoder()\n",
    "    \n",
    "    lb.fit(encoded_X_train[col].values)\n",
    "    encoded_X_train[col] = lb.transform(encoded_X_train[col])\n",
    "    encoded_X_val[col] = lb.transform(encoded_X_val[col])"
   ]
  },
  {
   "cell_type": "code",
   "execution_count": null,
   "id": "anonymous-butter",
   "metadata": {},
   "outputs": [],
   "source": []
  },
  {
   "cell_type": "code",
   "execution_count": null,
   "id": "informative-owner",
   "metadata": {},
   "outputs": [],
   "source": []
  },
  {
   "cell_type": "code",
   "execution_count": null,
   "id": "shared-sleeping",
   "metadata": {},
   "outputs": [],
   "source": []
  },
  {
   "cell_type": "code",
   "execution_count": null,
   "id": "collect-messenger",
   "metadata": {},
   "outputs": [],
   "source": []
  },
  {
   "cell_type": "code",
   "execution_count": null,
   "id": "unique-advertising",
   "metadata": {},
   "outputs": [],
   "source": []
  },
  {
   "cell_type": "code",
   "execution_count": null,
   "id": "romance-macintosh",
   "metadata": {},
   "outputs": [],
   "source": []
  },
  {
   "cell_type": "code",
   "execution_count": null,
   "id": "municipal-steps",
   "metadata": {},
   "outputs": [],
   "source": []
  },
  {
   "cell_type": "code",
   "execution_count": null,
   "id": "acknowledged-skating",
   "metadata": {},
   "outputs": [],
   "source": []
  }
 ],
 "metadata": {
  "kernelspec": {
   "display_name": "Python 3",
   "language": "python",
   "name": "python3"
  },
  "language_info": {
   "codemirror_mode": {
    "name": "ipython",
    "version": 3
   },
   "file_extension": ".py",
   "mimetype": "text/x-python",
   "name": "python",
   "nbconvert_exporter": "python",
   "pygments_lexer": "ipython3",
   "version": "3.8.3"
  }
 },
 "nbformat": 4,
 "nbformat_minor": 5
}
